{
 "cells": [
  {
   "cell_type": "code",
   "execution_count": null,
   "id": "8f201e4f-7916-416c-aabc-dd4c1d382c27",
   "metadata": {},
   "outputs": [],
   "source": [
    "#lisiting items"
   ]
  },
  {
   "cell_type": "code",
   "execution_count": 2,
   "id": "1ec12dbc-b62c-42db-be84-8dcebbd4a9e5",
   "metadata": {},
   "outputs": [],
   "source": [
    "def subfields():\n",
    "    print(\"Sub-fields in AI are:\")\n",
    "    list=[\"Machine Learning\",\"Neural Networks\",\"Vision\",\"Robotics\",\"Speech Processing\",\"Natural Language Processing\"]\n",
    "    for temp in list:\n",
    "         print(temp)\n"
   ]
  },
  {
   "cell_type": "code",
   "execution_count": 3,
   "id": "55546402-34e3-4860-bddc-19c30aafde81",
   "metadata": {},
   "outputs": [
    {
     "name": "stdout",
     "output_type": "stream",
     "text": [
      "Sub-fields in AI are:\n",
      "Machine Learning\n",
      "Neural Networks\n",
      "Vision\n",
      "Robotics\n",
      "Speech Processing\n",
      "Natural Language Processing\n"
     ]
    }
   ],
   "source": [
    "subfields()"
   ]
  },
  {
   "cell_type": "code",
   "execution_count": null,
   "id": "0a1e5cf8-96e0-4880-9d75-95acad581a1c",
   "metadata": {},
   "outputs": [],
   "source": [
    "\n",
    "#odd/even"
   ]
  },
  {
   "cell_type": "code",
   "execution_count": 4,
   "id": "2eba81a5-e7b4-4ac4-bfb6-9d6d627466ef",
   "metadata": {},
   "outputs": [],
   "source": [
    "def oddeven():\n",
    "    num=int(input(\"Enter the number:\"))\n",
    "    if(num%2==0):\n",
    "        print(num,\"is Even Number\")\n",
    "        msg=\"Even Number\"\n",
    "    else:\n",
    "        print(num,\"is Odd Number\")\n",
    "        msg=\"Odd Number\"\n",
    "    return msg\n",
    "\n",
    "            "
   ]
  },
  {
   "cell_type": "code",
   "execution_count": 5,
   "id": "8d30eead-7774-414b-99ca-d4fa3e97473b",
   "metadata": {},
   "outputs": [
    {
     "name": "stdin",
     "output_type": "stream",
     "text": [
      "Enter the number: 56\n"
     ]
    },
    {
     "name": "stdout",
     "output_type": "stream",
     "text": [
      "56 is Even Number\n"
     ]
    },
    {
     "data": {
      "text/plain": [
       "'Even Number'"
      ]
     },
     "execution_count": 5,
     "metadata": {},
     "output_type": "execute_result"
    }
   ],
   "source": [
    "oddeven()"
   ]
  },
  {
   "cell_type": "code",
   "execution_count": null,
   "id": "2d0c6a85-5e59-40b8-add9-d063a545c413",
   "metadata": {},
   "outputs": [],
   "source": [
    "#percentage"
   ]
  },
  {
   "cell_type": "code",
   "execution_count": 11,
   "id": "c317906e-ee57-4401-9e38-c3e473e5c446",
   "metadata": {},
   "outputs": [],
   "source": [
    "def percentage():\n",
    "    sub1=int(input(\"Subject1=\"))\n",
    "    sub2=int(input(\"subject2=\"))\n",
    "    sub3=int(input(\"Subject3=\"))\n",
    "    sub4=int(input(\"Subject4=\"))\n",
    "    sub5=int(input(\"Subject5=\"))\n",
    "    total=sub1+sub2+sub3+sub4+sub5\n",
    "    print(\"Total:\",total)\n",
    "    percent=(total/5)\n",
    "    print(\"Percentage:\",percent)\n",
    "\n"
   ]
  },
  {
   "cell_type": "code",
   "execution_count": 12,
   "id": "c612dc90-bde6-4930-ba5b-4b6b6a075c21",
   "metadata": {},
   "outputs": [
    {
     "name": "stdin",
     "output_type": "stream",
     "text": [
      "Subject1= 98\n",
      "subject2= 87\n",
      "Subject3= 95\n",
      "Subject4= 95\n",
      "Subject5= 93\n"
     ]
    },
    {
     "name": "stdout",
     "output_type": "stream",
     "text": [
      "Total: 468\n",
      "Percentage: 93.6\n"
     ]
    }
   ],
   "source": [
    "percentage()"
   ]
  },
  {
   "cell_type": "code",
   "execution_count": null,
   "id": "0a638009-9067-4f5e-8acd-308aed6c7549",
   "metadata": {},
   "outputs": [],
   "source": [
    "#triangle"
   ]
  },
  {
   "cell_type": "code",
   "execution_count": 7,
   "id": "111c30ee-8117-41d0-8b24-cbd0b577d98d",
   "metadata": {},
   "outputs": [],
   "source": [
    "def triangle():\n",
    "    ht=int(input(\"Height=\"))\n",
    "    bth=int(input(\"Breadth=\"))\n",
    "    area=(ht*bth)/2\n",
    "    print(\"Area formula=(height*breadth)/2\")\n",
    "    print(\"Area of triangle=\",area)\n",
    "    ht1=int(input(\"Height1=\"))\n",
    "    ht2=int(input(\"Height2=\"))\n",
    "    bth1=int(input(\"Breadth1=\"))\n",
    "    perimeter=ht1+ht2+bth1\n",
    "    print(\"Perimeter formula=Height1+Height2+Breadth1\")\n",
    "    print(\"perimeter of triangle=\",perimeter)\n",
    "\n",
    "\n",
    "    "
   ]
  },
  {
   "cell_type": "code",
   "execution_count": 8,
   "id": "734c9c3b-910b-4b5c-ab7f-8c94f7a82811",
   "metadata": {},
   "outputs": [
    {
     "name": "stdin",
     "output_type": "stream",
     "text": [
      "Height= 32\n",
      "Breadth= 34\n"
     ]
    },
    {
     "name": "stdout",
     "output_type": "stream",
     "text": [
      "Area formula=(height*breadth)/2\n",
      "Area of triangle= 544.0\n"
     ]
    },
    {
     "name": "stdin",
     "output_type": "stream",
     "text": [
      "Height1= 2\n",
      "Height2= 4\n",
      "Breadth1= 4\n"
     ]
    },
    {
     "name": "stdout",
     "output_type": "stream",
     "text": [
      "Perimeter formula=Height1+Height2+Breadth1\n",
      "perimeter of triangle= 10\n"
     ]
    }
   ],
   "source": [
    "\n",
    "triangle()"
   ]
  },
  {
   "cell_type": "code",
   "execution_count": null,
   "id": "dba626c9-e839-4a4f-becf-ff35e79a417d",
   "metadata": {},
   "outputs": [],
   "source": [
    "#eligiblity"
   ]
  },
  {
   "cell_type": "code",
   "execution_count": 9,
   "id": "7f42e056-44a2-4df8-bfdd-eee183fb349c",
   "metadata": {},
   "outputs": [],
   "source": [
    "def eligiblity():\n",
    "    gender=input(\"Your Gender=\")\n",
    "    age=int(input(\"Your Age=\"))\n",
    "    if(gender==\"male\" and age>=21) or (gender==\"female\" and age>=18):\n",
    "        print(\"Eligible\")\n",
    "        msg=\"Eligible\"\n",
    "    else:\n",
    "        print(\"Not Eligible\")\n",
    "        msg=\"Not Eligible\"\n",
    "    return msg\n",
    "\n",
    "    \n",
    "\n",
    "        "
   ]
  },
  {
   "cell_type": "code",
   "execution_count": 10,
   "id": "45ea6a4d-056e-472c-a4de-1c4ea2c82576",
   "metadata": {},
   "outputs": [
    {
     "name": "stdin",
     "output_type": "stream",
     "text": [
      "Your Gender= male\n",
      "Your Age= 18\n"
     ]
    },
    {
     "name": "stdout",
     "output_type": "stream",
     "text": [
      "Not Eligible\n"
     ]
    }
   ],
   "source": [
    "message=eligiblity()"
   ]
  },
  {
   "cell_type": "code",
   "execution_count": null,
   "id": "f2eb48a0-8434-4fee-8e9e-c92f215b3662",
   "metadata": {},
   "outputs": [],
   "source": []
  }
 ],
 "metadata": {
  "kernelspec": {
   "display_name": "Python 3 (ipykernel)",
   "language": "python",
   "name": "python3"
  },
  "language_info": {
   "codemirror_mode": {
    "name": "ipython",
    "version": 3
   },
   "file_extension": ".py",
   "mimetype": "text/x-python",
   "name": "python",
   "nbconvert_exporter": "python",
   "pygments_lexer": "ipython3",
   "version": "3.12.4"
  }
 },
 "nbformat": 4,
 "nbformat_minor": 5
}
